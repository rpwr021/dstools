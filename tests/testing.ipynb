{
 "cells": [
  {
   "cell_type": "code",
   "execution_count": 9,
   "metadata": {},
   "outputs": [],
   "source": [
    "import pandas as pd\n",
    "import numpy as np\n",
    "from sys import path\n",
    "path.append('../src')\n",
    "\n",
    "from dstools.dstools import DStools as dst"
   ]
  },
  {
   "cell_type": "code",
   "execution_count": 18,
   "metadata": {},
   "outputs": [],
   "source": [
    "#data = pd.read_fwf('./sample_dataset/auto-mpg.data', \\\n",
    "#                   names=[ 'mpg','cylinders','displacement','horsepower','weight','acceleration','year','origin','name'], \\\n",
    "#                   na_values='?')\n",
    "\n",
    "data =  pd.read_csv(\"./sample_dataset/wages_data_iso8859.csv\", encoding='ISO-8859-1')"
   ]
  },
  {
   "cell_type": "code",
   "execution_count": 19,
   "metadata": {},
   "outputs": [
    {
     "data": {
      "text/plain": [
       "case_number                   object\n",
       "case_received_date            object\n",
       "decision_date                 object\n",
       "case_status                   object\n",
       "employer_name                 object\n",
       "employer_num_employees       float64\n",
       "employer_yr_established      float64\n",
       "job_education                 object\n",
       "job_experience_num_months    float64\n",
       "job_state                     object\n",
       "job_foreign_lang_req          object\n",
       "job_level                    float64\n",
       "employee_citizenship          object\n",
       "wage_offer                   float64\n",
       "wage_unit                     object\n",
       "dtype: object"
      ]
     },
     "execution_count": 19,
     "metadata": {},
     "output_type": "execute_result"
    }
   ],
   "source": [
    "data.dtypes"
   ]
  },
  {
   "cell_type": "code",
   "execution_count": 20,
   "metadata": {},
   "outputs": [
    {
     "data": {
      "text/plain": [
       "case_number                   object\n",
       "case_received_date            object\n",
       "decision_date                 object\n",
       "case_status                   object\n",
       "employer_name                 object\n",
       "employer_num_employees       float64\n",
       "employer_yr_established      float64\n",
       "job_education                 object\n",
       "job_experience_num_months    float64\n",
       "job_state                     object\n",
       "job_foreign_lang_req          object\n",
       "job_level                    float64\n",
       "employee_citizenship          object\n",
       "wage_offer                   float64\n",
       "wage_unit                     object\n",
       "dtype: object"
      ]
     },
     "execution_count": 20,
     "metadata": {},
     "output_type": "execute_result"
    }
   ],
   "source": [
    "ds = dst()\n",
    "data.dtypes"
   ]
  },
  {
   "cell_type": "code",
   "execution_count": 21,
   "metadata": {},
   "outputs": [],
   "source": [
    "features = ds.process_dtypes(data, tapply = False, thr=1000)"
   ]
  },
  {
   "cell_type": "code",
   "execution_count": 22,
   "metadata": {},
   "outputs": [
    {
     "data": {
      "text/plain": [
       "['employer_num_employees',\n",
       " 'employer_yr_established',\n",
       " 'job_experience_num_months',\n",
       " 'job_level',\n",
       " 'wage_offer']"
      ]
     },
     "execution_count": 22,
     "metadata": {},
     "output_type": "execute_result"
    }
   ],
   "source": [
    "features.get('numfeatures')"
   ]
  },
  {
   "cell_type": "code",
   "execution_count": 23,
   "metadata": {},
   "outputs": [
    {
     "name": "stdout",
     "output_type": "stream",
     "text": [
      "job_level and job_experience_num_months = 0.61412\n"
     ]
    },
    {
     "data": {
      "text/plain": [
       "[[0.6141162849461972, 3, 2]]"
      ]
     },
     "execution_count": 23,
     "metadata": {},
     "output_type": "execute_result"
    }
   ],
   "source": [
    "ds.check_correlations(data, features.get(\"numfeatures\"), t=0.5)"
   ]
  }
 ],
 "metadata": {
  "kernelspec": {
   "display_name": "Python 3",
   "language": "python",
   "name": "python3"
  },
  "language_info": {
   "codemirror_mode": {
    "name": "ipython",
    "version": 3
   },
   "file_extension": ".py",
   "mimetype": "text/x-python",
   "name": "python",
   "nbconvert_exporter": "python",
   "pygments_lexer": "ipython3",
   "version": "3.6.6"
  }
 },
 "nbformat": 4,
 "nbformat_minor": 2
}
