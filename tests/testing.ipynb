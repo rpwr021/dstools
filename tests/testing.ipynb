{
 "cells": [
  {
   "cell_type": "code",
   "execution_count": 1,
   "metadata": {},
   "outputs": [],
   "source": [
    "import pandas as pd\n",
    "import numpy as np\n",
    "from sys import path\n",
    "path.append('../src')\n",
    "\n",
    "from dstools.dstools import DStools as dst"
   ]
  },
  {
   "cell_type": "code",
   "execution_count": 2,
   "metadata": {},
   "outputs": [],
   "source": [
    "#data = pd.read_fwf('./sample_dataset/auto-mpg.data', \\\n",
    "#                   names=[ 'mpg','cylinders','displacement','horsepower','weight','acceleration','year','origin','name'], \\\n",
    "#                   na_values='?')\n",
    "\n",
    "data =  pd.read_csv(\"./sample_dataset/wages_data_iso8859.csv\", encoding='ISO-8859-1')"
   ]
  },
  {
   "cell_type": "code",
   "execution_count": 3,
   "metadata": {},
   "outputs": [
    {
     "data": {
      "text/plain": [
       "case_number                   object\n",
       "case_received_date            object\n",
       "decision_date                 object\n",
       "case_status                   object\n",
       "employer_name                 object\n",
       "employer_num_employees       float64\n",
       "employer_yr_established      float64\n",
       "job_education                 object\n",
       "job_experience_num_months    float64\n",
       "job_state                     object\n",
       "job_foreign_lang_req          object\n",
       "job_level                    float64\n",
       "employee_citizenship          object\n",
       "wage_offer                   float64\n",
       "wage_unit                     object\n",
       "dtype: object"
      ]
     },
     "execution_count": 3,
     "metadata": {},
     "output_type": "execute_result"
    }
   ],
   "source": [
    "ds = dst()\n",
    "data.dtypes"
   ]
  },
  {
   "cell_type": "code",
   "execution_count": 4,
   "metadata": {},
   "outputs": [],
   "source": [
    "features = ds.process_dtypes(data, tapply = False, thr=1000)"
   ]
  },
  {
   "cell_type": "code",
   "execution_count": 5,
   "metadata": {},
   "outputs": [
    {
     "data": {
      "text/plain": [
       "['employer_num_employees',\n",
       " 'employer_yr_established',\n",
       " 'job_experience_num_months',\n",
       " 'job_level',\n",
       " 'wage_offer']"
      ]
     },
     "execution_count": 5,
     "metadata": {},
     "output_type": "execute_result"
    }
   ],
   "source": [
    "features.get('numfeatures')"
   ]
  },
  {
   "cell_type": "code",
   "execution_count": 6,
   "metadata": {},
   "outputs": [
    {
     "name": "stdout",
     "output_type": "stream",
     "text": [
      "job_level and job_experience_num_months = 0.61412\n"
     ]
    },
    {
     "data": {
      "text/plain": [
       "[[0.6141162849461972, 3, 2]]"
      ]
     },
     "execution_count": 6,
     "metadata": {},
     "output_type": "execute_result"
    }
   ],
   "source": [
    "ds.check_correlations(data, features.get(\"numfeatures\"), t=0.5)"
   ]
  },
  {
   "cell_type": "code",
   "execution_count": 7,
   "metadata": {},
   "outputs": [
    {
     "data": {
      "text/html": [
       "<div>\n",
       "<style scoped>\n",
       "    .dataframe tbody tr th:only-of-type {\n",
       "        vertical-align: middle;\n",
       "    }\n",
       "\n",
       "    .dataframe tbody tr th {\n",
       "        vertical-align: top;\n",
       "    }\n",
       "\n",
       "    .dataframe thead th {\n",
       "        text-align: right;\n",
       "    }\n",
       "</style>\n",
       "<table border=\"1\" class=\"dataframe\">\n",
       "  <thead>\n",
       "    <tr style=\"text-align: right;\">\n",
       "      <th></th>\n",
       "      <th>employer_num_employees</th>\n",
       "      <th>employer_yr_established</th>\n",
       "      <th>job_experience_num_months</th>\n",
       "      <th>job_level</th>\n",
       "      <th>wage_offer</th>\n",
       "    </tr>\n",
       "  </thead>\n",
       "  <tbody>\n",
       "    <tr>\n",
       "      <th>employer_num_employees</th>\n",
       "      <td>1.000000</td>\n",
       "      <td>-0.020044</td>\n",
       "      <td>0.072018</td>\n",
       "      <td>-0.004260</td>\n",
       "      <td>0.000547</td>\n",
       "    </tr>\n",
       "    <tr>\n",
       "      <th>employer_yr_established</th>\n",
       "      <td>-0.020044</td>\n",
       "      <td>1.000000</td>\n",
       "      <td>-0.090083</td>\n",
       "      <td>0.092701</td>\n",
       "      <td>-0.061721</td>\n",
       "    </tr>\n",
       "    <tr>\n",
       "      <th>job_experience_num_months</th>\n",
       "      <td>0.072018</td>\n",
       "      <td>-0.090083</td>\n",
       "      <td>1.000000</td>\n",
       "      <td>0.614116</td>\n",
       "      <td>0.407562</td>\n",
       "    </tr>\n",
       "    <tr>\n",
       "      <th>job_level</th>\n",
       "      <td>-0.004260</td>\n",
       "      <td>0.092701</td>\n",
       "      <td>0.614116</td>\n",
       "      <td>1.000000</td>\n",
       "      <td>0.281924</td>\n",
       "    </tr>\n",
       "    <tr>\n",
       "      <th>wage_offer</th>\n",
       "      <td>0.000547</td>\n",
       "      <td>-0.061721</td>\n",
       "      <td>0.407562</td>\n",
       "      <td>0.281924</td>\n",
       "      <td>1.000000</td>\n",
       "    </tr>\n",
       "  </tbody>\n",
       "</table>\n",
       "</div>"
      ],
      "text/plain": [
       "                           employer_num_employees  employer_yr_established  \\\n",
       "employer_num_employees                   1.000000                -0.020044   \n",
       "employer_yr_established                 -0.020044                 1.000000   \n",
       "job_experience_num_months                0.072018                -0.090083   \n",
       "job_level                               -0.004260                 0.092701   \n",
       "wage_offer                               0.000547                -0.061721   \n",
       "\n",
       "                           job_experience_num_months  job_level  wage_offer  \n",
       "employer_num_employees                      0.072018  -0.004260    0.000547  \n",
       "employer_yr_established                    -0.090083   0.092701   -0.061721  \n",
       "job_experience_num_months                   1.000000   0.614116    0.407562  \n",
       "job_level                                   0.614116   1.000000    0.281924  \n",
       "wage_offer                                  0.407562   0.281924    1.000000  "
      ]
     },
     "execution_count": 7,
     "metadata": {},
     "output_type": "execute_result"
    }
   ],
   "source": [
    "data.corr()"
   ]
  },
  {
   "cell_type": "code",
   "execution_count": 8,
   "metadata": {},
   "outputs": [
    {
     "data": {
      "text/plain": [
       "('job_level', 'job_experience_num_months')"
      ]
     },
     "execution_count": 8,
     "metadata": {},
     "output_type": "execute_result"
    }
   ],
   "source": [
    "features.get(\"numfeatures\")[:][3],features.get(\"numfeatures\")[:][2]"
   ]
  },
  {
   "cell_type": "code",
   "execution_count": null,
   "metadata": {},
   "outputs": [],
   "source": []
  }
 ],
 "metadata": {
  "kernelspec": {
   "display_name": "Python 3",
   "language": "python",
   "name": "python3"
  },
  "language_info": {
   "codemirror_mode": {
    "name": "ipython",
    "version": 3
   },
   "file_extension": ".py",
   "mimetype": "text/x-python",
   "name": "python",
   "nbconvert_exporter": "python",
   "pygments_lexer": "ipython3",
   "version": "3.6.6"
  }
 },
 "nbformat": 4,
 "nbformat_minor": 2
}
